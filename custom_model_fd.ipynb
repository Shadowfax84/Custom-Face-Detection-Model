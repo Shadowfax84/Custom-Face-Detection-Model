{
 "cells": [
  {
   "cell_type": "code",
   "execution_count": 1,
   "metadata": {},
   "outputs": [
    {
     "ename": "",
     "evalue": "",
     "output_type": "error",
     "traceback": [
      "\u001b[1;31mFailed to start the Kernel. \n",
      "\u001b[1;31mUnable to start Kernel 'campusgenie (Python 3.12.0)' due to a timeout waiting for the ports to get used. \n",
      "\u001b[1;31mView Jupyter <a href='command:jupyter.viewOutput'>log</a> for further details."
     ]
    }
   ],
   "source": [
    "import tensorflow as tf\n",
    "from tensorflow.keras.preprocessing.image import ImageDataGenerator\n",
    "from tensorflow.keras.applications.mobilenet_v2 import preprocess_input  # Correct import for MobileNetV2\n",
    "import os\n",
    "\n",
    "# Define path to your LFW dataset\n",
    "lfw_path = r\"\\lfw_subset\"  # Replace with your actual path\n",
    "\n",
    "# Create ImageDataGenerator for LFW with data augmentation for training\n",
    "lfw_datagen = ImageDataGenerator(\n",
    "    preprocessing_function=preprocess_input,  # Use MobileNetV2's preprocess_input\n",
    "    validation_split=0.3,  # Reduced validation split to 30%\n",
    "    rotation_range=20,  # Randomly rotate images in the range (degrees)\n",
    "    width_shift_range=0.2,  # Randomly shift images horizontally\n",
    "    height_shift_range=0.2,  # Randomly shift images vertically\n",
    "    shear_range=0.2,  # Shear intensity\n",
    "    zoom_range=0.2,  # Randomly zoom into images\n",
    "    horizontal_flip=True,  # Randomly flip images\n",
    "    fill_mode='nearest'  # Fill pixels that are created after rotation or shifting\n",
    ")\n",
    "\n",
    "# Get all class names and limit to first 250 classes\n",
    "all_class_names = os.listdir(lfw_path)\n",
    "limited_class_names = all_class_names[:250]  # Adjust this based on your needs\n",
    "\n",
    "# Load training data for limited classes\n",
    "lfw_train_generator = lfw_datagen.flow_from_directory(\n",
    "    lfw_path,\n",
    "    target_size=(224, 224),\n",
    "    batch_size=16,\n",
    "    class_mode='categorical',\n",
    "    subset='training',  # Specify that this is the training subset\n",
    "    classes=limited_class_names  # Specify limited classes here\n",
    ")\n",
    "\n",
    "# Load validation data without augmentation\n",
    "lfw_validation_datagen = ImageDataGenerator(\n",
    "    preprocessing_function=preprocess_input,  # Use MobileNetV2's preprocess_input\n",
    "    validation_split=0.3  # Ensure this matches the training split for consistency\n",
    ")\n",
    "\n",
    "lfw_validation_generator = lfw_validation_datagen.flow_from_directory(\n",
    "    lfw_path,\n",
    "    target_size=(224, 224),\n",
    "    batch_size=16,\n",
    "    class_mode='categorical',\n",
    "    subset='validation',  # Specify that this is the validation subset\n",
    "    classes=limited_class_names  # Specify limited classes here\n",
    ")\n",
    "\n",
    "# Get number of classes from the training generator\n",
    "num_classes = len(lfw_train_generator.class_indices)\n",
    "\n",
    "# Save class indices and names to a text file\n",
    "class_indices = lfw_train_generator.class_indices\n",
    "\n",
    "# Define the output file path for class indices\n",
    "output_file_path = r\"lfw_subset_class_indices.txt\"  # Replace with your desired output path\n",
    "\n",
    "with open(output_file_path, 'w') as f:\n",
    "    for class_name, class_index in class_indices.items():\n",
    "        f.write(f\"{class_index}: {class_name}\\n\")\n",
    "\n",
    "print(f\"Class indices saved to {output_file_path}\")\n"
   ]
  },
  {
   "cell_type": "code",
   "execution_count": 1,
   "metadata": {},
   "outputs": [
    {
     "name": "stdout",
     "output_type": "stream",
     "text": [
      "Found 11311 images belonging to 250 classes.\n",
      "Found 4701 images belonging to 250 classes.\n",
      "Class indices saved to qmul_subset_class_indices.txt\n"
     ]
    }
   ],
   "source": [
    "import tensorflow as tf\n",
    "from tensorflow.keras.preprocessing.image import ImageDataGenerator\n",
    "from tensorflow.keras.applications.mobilenet_v2 import preprocess_input  # Use MobileNetV2's preprocess_input\n",
    "import os\n",
    "\n",
    "# Define path to your QMUL dataset\n",
    "qmul_path = r\"qmul_subset\"  # Replace with your actual path\n",
    "\n",
    "# Get all class names (subdirectories) in the QMUL dataset directory\n",
    "all_class_names = os.listdir(qmul_path)\n",
    "\n",
    "# Limit to the first 250 classes (or adjust based on your needs)\n",
    "limited_class_names = all_class_names[:250]\n",
    "\n",
    "# Create ImageDataGenerator for QMUL with data augmentation for training\n",
    "qmul_datagen = ImageDataGenerator(\n",
    "    preprocessing_function=preprocess_input,  # Use MobileNetV2's preprocess_input\n",
    "    validation_split=0.3,  # Adjusted validation split to 30%\n",
    "    rotation_range=20,  # Randomly rotate images in the range (degrees)\n",
    "    width_shift_range=0.2,  # Randomly shift images horizontally\n",
    "    height_shift_range=0.2,  # Randomly shift images vertically\n",
    "    shear_range=0.2,  # Shear intensity\n",
    "    zoom_range=0.2,  # Randomly zoom into images\n",
    "    horizontal_flip=True,  # Randomly flip images\n",
    "    fill_mode='nearest'  # Fill pixels that are created after rotation or shifting\n",
    ")\n",
    "\n",
    "# Load training data for limited classes\n",
    "qmul_train_generator = qmul_datagen.flow_from_directory(\n",
    "    qmul_path,\n",
    "    target_size=(224, 224),\n",
    "    batch_size=16,\n",
    "    class_mode='categorical',\n",
    "    subset='training',  # Specify that this is the training subset\n",
    "    classes=limited_class_names  # Specify limited classes here\n",
    ")\n",
    "\n",
    "# Load validation data without augmentation for limited classes\n",
    "qmul_validation_datagen = ImageDataGenerator(\n",
    "    preprocessing_function=preprocess_input,  # Use MobileNetV2's preprocess_input\n",
    "    validation_split=0.3  # Ensure this matches the training split for consistency\n",
    ")\n",
    "\n",
    "qmul_validation_generator = qmul_validation_datagen.flow_from_directory(\n",
    "    qmul_path,\n",
    "    target_size=(224, 224),\n",
    "    batch_size=16,\n",
    "    class_mode='categorical',\n",
    "    subset='validation',  # Specify that this is the validation subset\n",
    "    classes=limited_class_names  # Specify limited classes here\n",
    ")\n",
    "\n",
    "# Get number of classes from the training generator\n",
    "num_classes = len(qmul_train_generator.class_indices)\n",
    "\n",
    "# Save class indices and names to a text file\n",
    "class_indices = qmul_train_generator.class_indices\n",
    "\n",
    "# Define the output file path for class indices\n",
    "output_file_path = r\"qmul_subset_class_indices.txt\"  # Replace with your desired output path\n",
    "\n",
    "with open(output_file_path, 'w') as f:\n",
    "    for class_name, class_index in class_indices.items():\n",
    "        f.write(f\"{class_index}: {class_name}\\n\")\n",
    "\n",
    "print(f\"Class indices saved to {output_file_path}\")\n"
   ]
  },
  {
   "cell_type": "code",
   "execution_count": 3,
   "metadata": {},
   "outputs": [
    {
     "name": "stdout",
     "output_type": "stream",
     "text": [
      "Model ready to train\n"
     ]
    }
   ],
   "source": [
    "import tensorflow as tf\n",
    "from tensorflow.keras.layers import GlobalAveragePooling2D, Dropout, BatchNormalization,Dense\n",
    "from tensorflow.keras.models import Model\n",
    "from tensorflow.keras.optimizers import Adam\n",
    "from tensorflow.keras.callbacks import EarlyStopping, ReduceLROnPlateau\n",
    "from tensorflow.keras.mixed_precision import set_global_policy\n",
    "\n",
    "# Set mixed precision policy\n",
    "set_global_policy('mixed_float16')\n",
    "\n",
    "# Define the base model (MobileNetV2)\n",
    "base_model = tf.keras.applications.MobileNetV2(weights='imagenet', include_top=False, input_shape=(224, 224, 3))\n",
    "\n",
    "# Freeze all layers except the last few layers\n",
    "for layer in base_model.layers[:-10]:\n",
    "    layer.trainable = False\n",
    "\n",
    "# Create the model architecture\n",
    "x = base_model.output\n",
    "x = GlobalAveragePooling2D()(x)  # Reduce dimensions to 1280\n",
    "\n",
    "# Use dropout for regularization\n",
    "x = Dropout(0.3)(x)  # Regularization\n",
    "x = BatchNormalization()(x)  # Normalize activations\n",
    "x = Dropout(0.325)(x)  # Regularization\n",
    "x = Dense(250, activation='softmax')(x)  # Add a classification layer for 250 classes\n",
    "\n",
    "# Create the final model for feature extraction\n",
    "model = Model(inputs=base_model.input, outputs=x)\n",
    "\n",
    "# Compile the model (optional for feature extraction)\n",
    "optimizer = tf.keras.optimizers.Adam(learning_rate=1e-4)\n",
    "model.compile(optimizer=optimizer, loss='categorical_crossentropy', metrics=['accuracy'])  # Loss and metrics are optional\n",
    "\n",
    "# Callbacks for training\n",
    "early_stopping = EarlyStopping(monitor='val_loss', patience=3, restore_best_weights=True)\n",
    "lr_scheduler = ReduceLROnPlateau(monitor='val_loss', factor=0.5, patience=2, min_lr=1e-6)\n",
    "\n",
    "print(\"Model ready to train\")\n"
   ]
  },
  {
   "cell_type": "code",
   "execution_count": 4,
   "metadata": {},
   "outputs": [
    {
     "name": "stdout",
     "output_type": "stream",
     "text": [
      "Training on lfw dataset...\n"
     ]
    },
    {
     "name": "stderr",
     "output_type": "stream",
     "text": [
      "c:\\py_envs\\campusgenie\\Lib\\site-packages\\keras\\src\\trainers\\data_adapters\\py_dataset_adapter.py:121: UserWarning: Your `PyDataset` class should call `super().__init__(**kwargs)` in its constructor. `**kwargs` can include `workers`, `use_multiprocessing`, `max_queue_size`. Do not pass these arguments to `fit()`, as they will be ignored.\n",
      "  self._warn_if_super_not_called()\n"
     ]
    },
    {
     "name": "stdout",
     "output_type": "stream",
     "text": [
      "\u001b[1m171/171\u001b[0m \u001b[32m━━━━━━━━━━━━━━━━━━━━\u001b[0m\u001b[37m\u001b[0m \u001b[1m0s\u001b[0m 14s/step - accuracy: 0.0129 - loss: 6.4547 "
     ]
    },
    {
     "name": "stderr",
     "output_type": "stream",
     "text": [
      "c:\\py_envs\\campusgenie\\Lib\\site-packages\\keras\\src\\trainers\\data_adapters\\py_dataset_adapter.py:121: UserWarning: Your `PyDataset` class should call `super().__init__(**kwargs)` in its constructor. `**kwargs` can include `workers`, `use_multiprocessing`, `max_queue_size`. Do not pass these arguments to `fit()`, as they will be ignored.\n",
      "  self._warn_if_super_not_called()\n"
     ]
    },
    {
     "name": "stdout",
     "output_type": "stream",
     "text": [
      "\u001b[1m171/171\u001b[0m \u001b[32m━━━━━━━━━━━━━━━━━━━━\u001b[0m\u001b[37m\u001b[0m \u001b[1m2816s\u001b[0m 16s/step - accuracy: 0.0130 - loss: 6.4532 - val_accuracy: 0.1945 - val_loss: 4.8334 - learning_rate: 1.0000e-04\n",
      "Final Validation Loss for lfw: 4.833428382873535\n",
      "Training on qmul dataset...\n",
      "\u001b[1m707/707\u001b[0m \u001b[32m━━━━━━━━━━━━━━━━━━━━\u001b[0m\u001b[37m\u001b[0m \u001b[1m9760s\u001b[0m 14s/step - accuracy: 0.0462 - loss: 5.4972 - val_accuracy: 0.0277 - val_loss: 10.9645 - learning_rate: 1.0000e-04\n",
      "Final Validation Loss for qmul: 10.96452808380127\n",
      "Final model saved at: final_1_model.keras\n"
     ]
    }
   ],
   "source": [
    "import os\n",
    "import tensorflow as tf\n",
    "import matplotlib.pyplot as plt  \n",
    "import numpy as np\n",
    "from tensorflow.keras.callbacks import Callback, TensorBoard, EarlyStopping, ReduceLROnPlateau\n",
    "\n",
    "# Function to train the model on a given dataset\n",
    "def train_on_dataset(model, train_generator, validation_generator, dataset_name):\n",
    "    # Set up TensorBoard logging directory for the current dataset\n",
    "    log_dir = os.path.join(\"logs\", \"fit\", f\"{dataset_name}_model\")\n",
    "    tensorboard_callback = TensorBoard(log_dir=log_dir, histogram_freq=1)\n",
    "\n",
    "    # Train the model on the current dataset\n",
    "    print(f\"Training on {dataset_name} dataset...\")\n",
    "    history = model.fit(\n",
    "        train_generator,\n",
    "        validation_data=validation_generator,\n",
    "        epochs=1,\n",
    "        callbacks=[tensorboard_callback, early_stopping, lr_scheduler]\n",
    "    )\n",
    "\n",
    "    # Print final validation metrics\n",
    "    val_loss = history.history['val_loss'][-1]\n",
    "    print(f\"Final Validation Loss for {dataset_name}: {val_loss}\")\n",
    "\n",
    "# List of datasets and their corresponding generators (ensure these are defined)\n",
    "datasets = [\n",
    "    {\"name\": \"lfw\", \"train_generator\": lfw_train_generator, \"validation_generator\": lfw_validation_generator},\n",
    "    {\"name\": \"qmul\", \"train_generator\": qmul_train_generator, \"validation_generator\": qmul_validation_generator}\n",
    "]\n",
    "\n",
    "# Initialize callbacks for training\n",
    "early_stopping = EarlyStopping(monitor='val_loss', patience=3, restore_best_weights=True)\n",
    "lr_scheduler = ReduceLROnPlateau(monitor='val_loss', factor=0.5, patience=2, min_lr=1e-6)\n",
    "\n",
    "# Sequentially train on each dataset\n",
    "for dataset in datasets:\n",
    "    train_on_dataset(model, dataset[\"train_generator\"], dataset[\"validation_generator\"], dataset[\"name\"])\n",
    "\n",
    "# Save the final model after training on all datasets\n",
    "final_model_path = \"final_1_model.keras\"\n",
    "model.save(final_model_path)\n",
    "print(f\"Final model saved at: {final_model_path}\")\n"
   ]
  }
 ],
 "metadata": {
  "kernelspec": {
   "display_name": "campusgenie",
   "language": "python",
   "name": "python3"
  },
  "language_info": {
   "codemirror_mode": {
    "name": "ipython",
    "version": 3
   },
   "file_extension": ".py",
   "mimetype": "text/x-python",
   "name": "python",
   "nbconvert_exporter": "python",
   "pygments_lexer": "ipython3",
   "version": "3.12.0"
  }
 },
 "nbformat": 4,
 "nbformat_minor": 2
}
